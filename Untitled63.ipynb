{
 "cells": [
  {
   "cell_type": "code",
   "execution_count": 7,
   "id": "8e82584c-3e87-4c60-8cbb-f7d92c0be03d",
   "metadata": {},
   "outputs": [],
   "source": [
    "from sklearn.neighbors import KNeighborsRegressor"
   ]
  },
  {
   "cell_type": "code",
   "execution_count": 8,
   "id": "1567f606-0342-47ab-87f3-e2bea257e043",
   "metadata": {},
   "outputs": [],
   "source": [
    "from sklearn.datasets import make_classification "
   ]
  },
  {
   "cell_type": "code",
   "execution_count": 9,
   "id": "237eb2d1-f73d-4ae7-b798-4ad237698c37",
   "metadata": {},
   "outputs": [],
   "source": [
    "from sklearn.model_selection import train_test_split"
   ]
  },
  {
   "cell_type": "code",
   "execution_count": 13,
   "id": "ca0c0922-47e2-4103-bb00-57b7ca188a9c",
   "metadata": {},
   "outputs": [],
   "source": [
    "from sklearn.datasets import make_regression"
   ]
  },
  {
   "cell_type": "code",
   "execution_count": 14,
   "id": "09574d13-b435-4ba4-bd5d-76af74183367",
   "metadata": {},
   "outputs": [],
   "source": [
    "import pandas as pd\n",
    "x,y=make_regression(n_samples=1000,noise=10,random_state=42,n_features=2)"
   ]
  },
  {
   "cell_type": "code",
   "execution_count": 15,
   "id": "b1b13bec-c560-41db-a2c9-480ea1d77694",
   "metadata": {},
   "outputs": [],
   "source": [
    "x_train,x_test,y_train,y_test=train_test_split(x,y,random_state=42,test_size=.23)"
   ]
  },
  {
   "cell_type": "code",
   "execution_count": 18,
   "id": "297c6596-1637-4418-a9b3-75c3c4e9cdf6",
   "metadata": {},
   "outputs": [],
   "source": [
    "pro=KNeighborsRegressor(n_neighbors=6,algorithm='auto')"
   ]
  },
  {
   "cell_type": "code",
   "execution_count": 19,
   "id": "04442b24-6e71-4f83-8bfc-892741981943",
   "metadata": {},
   "outputs": [
    {
     "data": {
      "text/html": [
       "<style>#sk-container-id-1 {color: black;background-color: white;}#sk-container-id-1 pre{padding: 0;}#sk-container-id-1 div.sk-toggleable {background-color: white;}#sk-container-id-1 label.sk-toggleable__label {cursor: pointer;display: block;width: 100%;margin-bottom: 0;padding: 0.3em;box-sizing: border-box;text-align: center;}#sk-container-id-1 label.sk-toggleable__label-arrow:before {content: \"▸\";float: left;margin-right: 0.25em;color: #696969;}#sk-container-id-1 label.sk-toggleable__label-arrow:hover:before {color: black;}#sk-container-id-1 div.sk-estimator:hover label.sk-toggleable__label-arrow:before {color: black;}#sk-container-id-1 div.sk-toggleable__content {max-height: 0;max-width: 0;overflow: hidden;text-align: left;background-color: #f0f8ff;}#sk-container-id-1 div.sk-toggleable__content pre {margin: 0.2em;color: black;border-radius: 0.25em;background-color: #f0f8ff;}#sk-container-id-1 input.sk-toggleable__control:checked~div.sk-toggleable__content {max-height: 200px;max-width: 100%;overflow: auto;}#sk-container-id-1 input.sk-toggleable__control:checked~label.sk-toggleable__label-arrow:before {content: \"▾\";}#sk-container-id-1 div.sk-estimator input.sk-toggleable__control:checked~label.sk-toggleable__label {background-color: #d4ebff;}#sk-container-id-1 div.sk-label input.sk-toggleable__control:checked~label.sk-toggleable__label {background-color: #d4ebff;}#sk-container-id-1 input.sk-hidden--visually {border: 0;clip: rect(1px 1px 1px 1px);clip: rect(1px, 1px, 1px, 1px);height: 1px;margin: -1px;overflow: hidden;padding: 0;position: absolute;width: 1px;}#sk-container-id-1 div.sk-estimator {font-family: monospace;background-color: #f0f8ff;border: 1px dotted black;border-radius: 0.25em;box-sizing: border-box;margin-bottom: 0.5em;}#sk-container-id-1 div.sk-estimator:hover {background-color: #d4ebff;}#sk-container-id-1 div.sk-parallel-item::after {content: \"\";width: 100%;border-bottom: 1px solid gray;flex-grow: 1;}#sk-container-id-1 div.sk-label:hover label.sk-toggleable__label {background-color: #d4ebff;}#sk-container-id-1 div.sk-serial::before {content: \"\";position: absolute;border-left: 1px solid gray;box-sizing: border-box;top: 0;bottom: 0;left: 50%;z-index: 0;}#sk-container-id-1 div.sk-serial {display: flex;flex-direction: column;align-items: center;background-color: white;padding-right: 0.2em;padding-left: 0.2em;position: relative;}#sk-container-id-1 div.sk-item {position: relative;z-index: 1;}#sk-container-id-1 div.sk-parallel {display: flex;align-items: stretch;justify-content: center;background-color: white;position: relative;}#sk-container-id-1 div.sk-item::before, #sk-container-id-1 div.sk-parallel-item::before {content: \"\";position: absolute;border-left: 1px solid gray;box-sizing: border-box;top: 0;bottom: 0;left: 50%;z-index: -1;}#sk-container-id-1 div.sk-parallel-item {display: flex;flex-direction: column;z-index: 1;position: relative;background-color: white;}#sk-container-id-1 div.sk-parallel-item:first-child::after {align-self: flex-end;width: 50%;}#sk-container-id-1 div.sk-parallel-item:last-child::after {align-self: flex-start;width: 50%;}#sk-container-id-1 div.sk-parallel-item:only-child::after {width: 0;}#sk-container-id-1 div.sk-dashed-wrapped {border: 1px dashed gray;margin: 0 0.4em 0.5em 0.4em;box-sizing: border-box;padding-bottom: 0.4em;background-color: white;}#sk-container-id-1 div.sk-label label {font-family: monospace;font-weight: bold;display: inline-block;line-height: 1.2em;}#sk-container-id-1 div.sk-label-container {text-align: center;}#sk-container-id-1 div.sk-container {/* jupyter's `normalize.less` sets `[hidden] { display: none; }` but bootstrap.min.css set `[hidden] { display: none !important; }` so we also need the `!important` here to be able to override the default hidden behavior on the sphinx rendered scikit-learn.org. See: https://github.com/scikit-learn/scikit-learn/issues/21755 */display: inline-block !important;position: relative;}#sk-container-id-1 div.sk-text-repr-fallback {display: none;}</style><div id=\"sk-container-id-1\" class=\"sk-top-container\"><div class=\"sk-text-repr-fallback\"><pre>KNeighborsRegressor(n_neighbors=6)</pre><b>In a Jupyter environment, please rerun this cell to show the HTML representation or trust the notebook. <br />On GitHub, the HTML representation is unable to render, please try loading this page with nbviewer.org.</b></div><div class=\"sk-container\" hidden><div class=\"sk-item\"><div class=\"sk-estimator sk-toggleable\"><input class=\"sk-toggleable__control sk-hidden--visually\" id=\"sk-estimator-id-1\" type=\"checkbox\" checked><label for=\"sk-estimator-id-1\" class=\"sk-toggleable__label sk-toggleable__label-arrow\">KNeighborsRegressor</label><div class=\"sk-toggleable__content\"><pre>KNeighborsRegressor(n_neighbors=6)</pre></div></div></div></div></div>"
      ],
      "text/plain": [
       "KNeighborsRegressor(n_neighbors=6)"
      ]
     },
     "execution_count": 19,
     "metadata": {},
     "output_type": "execute_result"
    }
   ],
   "source": [
    "pro.fit(x_train,y_train)"
   ]
  },
  {
   "cell_type": "code",
   "execution_count": 20,
   "id": "904ab1b7-02c5-4e70-bb8a-120cb6b411ab",
   "metadata": {},
   "outputs": [],
   "source": [
    "yp=pro.predict(x_test)"
   ]
  },
  {
   "cell_type": "code",
   "execution_count": 21,
   "id": "5d2dd46f-b5fb-4a02-99c7-e6561138d0b7",
   "metadata": {},
   "outputs": [
    {
     "data": {
      "text/plain": [
       "array([ 44.36816359,  -1.82674126, -17.77501278, -14.23248527,\n",
       "        39.98247345,  16.32474215,  62.47359613, -29.37903754,\n",
       "       -69.62828115, -11.52925322,  21.80810748,  -6.8056688 ,\n",
       "       -68.2122538 ,  56.95832322,  17.88875688,   1.81128438,\n",
       "       -58.89280399,  23.40509015, -30.65682555,  24.11830631,\n",
       "        18.85498877,  14.87340636, -20.83394064, -42.50851757,\n",
       "       -44.01205253,  22.45408868, -59.95999435,  57.41364484,\n",
       "       -21.8793381 ,  75.16878764, -76.76262901,  35.49887555,\n",
       "       -55.89232411,  -6.77954881, -50.48642122,  -3.93342619,\n",
       "        17.65966891,  33.72772173,  14.99756296, -51.2872252 ,\n",
       "        86.76482216,  29.84752288,  36.64907356, -70.67275387,\n",
       "        19.13441662,  20.6172532 , -35.35331754,  -4.03648265,\n",
       "        62.64114459,  68.04595243,  59.37221042,  75.88137624,\n",
       "       -59.7684246 , -30.04634947, -48.9628388 , -24.36754183,\n",
       "       -33.29603737,  33.50360127,  89.84335353,  33.82278541,\n",
       "        37.59356966,   2.91576852, -23.96311167,  -5.06042584,\n",
       "        -8.02945657, -18.33906448,   4.15920175,  21.93831999,\n",
       "        -8.48670013, -58.54755482,  40.66439847,  82.38542471,\n",
       "        59.11937125,   2.56693742,  65.71314378, -33.06256981,\n",
       "       -15.36422089, -42.3989075 , -12.79437644, -50.83978056,\n",
       "       -14.03887563,  45.68428174,   5.15479122,  34.49265503,\n",
       "        37.78110718,  10.43855292,  14.51648362,   8.01763021,\n",
       "        34.65588861,  41.99279967, -42.22581066,  16.02220942,\n",
       "        16.30523155,  16.94923885,   6.47091448, -62.30118858,\n",
       "       -14.06316443,  20.96929619,  -0.89125575,  -1.46053012,\n",
       "        59.65148983,  61.73772639,   3.7562942 , -49.0841476 ,\n",
       "        -6.33372731, -33.39676008, -23.49268106,  -1.91986667,\n",
       "        17.17184934,  -3.8362921 ,  27.67263601,  -0.35817258,\n",
       "       -44.01205253, -15.44036871,  15.38635898,  58.17981253,\n",
       "       -13.50059503, -11.40844855,  24.03350305,   1.70005053,\n",
       "        32.62369396,  36.37464513,  13.8603121 ,  -2.16568274,\n",
       "       -52.43507324,  12.61771756,  35.39603846, -42.50851757,\n",
       "       -33.07199916,  29.70198801, -47.4971287 ,   9.31134471,\n",
       "        -2.61145079, -34.80051048,  -9.24035597,  15.97324933,\n",
       "        20.58853335,  14.34990548, -35.46473846, -16.18255964,\n",
       "        -7.77627628, -15.94009646, -19.4359055 , -16.3426307 ,\n",
       "         6.17001448,  38.05271352,  18.83545219, -20.76322785,\n",
       "       -37.74392425, -40.80332502,  76.76375858,  26.26167069,\n",
       "       -48.83748836, -21.95539579, -14.35360646, -36.13005201,\n",
       "        11.98344197,  34.15918523,  15.46287021,  70.01566796,\n",
       "        -1.89168238,  88.07530091, -24.93009559,  -1.90202582,\n",
       "       -74.7545553 , -43.59032414,  79.70730343, -30.18155652,\n",
       "        16.14259155,  71.78462922,  49.05848452, -69.06000474,\n",
       "        51.60613147,  64.75984718,  31.17851621, -33.13222126,\n",
       "       -32.44368762, -50.5064418 ,  -9.54612424,   1.63212739,\n",
       "        -0.55544799,  82.52738519,  21.45661817, -34.80051048,\n",
       "        86.76482216,  24.81160976,   1.63212739, -30.33009798,\n",
       "        24.81160976, -21.6356836 , -13.87493537,  -7.65154233,\n",
       "       -17.55869601,  -1.43065716,  39.24245878, -64.45413577,\n",
       "         4.30448585, -76.73943809,  -5.06165948,   5.49464858,\n",
       "        -6.06013438,  39.27067365,  34.76918317, -53.38646928,\n",
       "        -6.75143645,   3.43585108,   6.14317794, -18.0969096 ,\n",
       "        27.67263601, -44.12892846,   1.73833183, -52.45021525,\n",
       "       -48.29297938,  24.04065663, -20.3016859 ,   6.75878963,\n",
       "        19.6292273 ,  11.47565608,  24.32593179, -16.43064578,\n",
       "        18.42442813,  38.31924176,   4.00439897,  17.42220297,\n",
       "       -59.87418523,  17.70944197, -16.18255964, -22.84418567,\n",
       "        13.68274209,  28.63833315])"
      ]
     },
     "execution_count": 21,
     "metadata": {},
     "output_type": "execute_result"
    }
   ],
   "source": [
    "yp"
   ]
  },
  {
   "cell_type": "code",
   "execution_count": 22,
   "id": "af010de4-2006-43fb-a54e-953354813187",
   "metadata": {},
   "outputs": [],
   "source": [
    "from sklearn.metrics import r2_score,mean_absolute_error,mean_squared_error"
   ]
  },
  {
   "cell_type": "code",
   "execution_count": 24,
   "id": "1347a3bf-b3eb-4127-981b-5601c1d6e7cb",
   "metadata": {},
   "outputs": [
    {
     "name": "stdout",
     "output_type": "stream",
     "text": [
      "0.9147582854103256\n",
      "9.050146428596564\n",
      "131.79321763996097\n"
     ]
    }
   ],
   "source": [
    "print(r2_score(y_test,yp))\n",
    "print(mean_absolute_error(y_test,yp))\n",
    "print(mean_squared_error(y_test,yp))"
   ]
  },
  {
   "cell_type": "code",
   "execution_count": null,
   "id": "74b0a59c-5c10-4fbc-be07-72a8f372bbac",
   "metadata": {},
   "outputs": [],
   "source": []
  },
  {
   "cell_type": "code",
   "execution_count": null,
   "id": "764d5e1e-fead-4677-91e3-fa124f1dd6f7",
   "metadata": {},
   "outputs": [],
   "source": []
  }
 ],
 "metadata": {
  "kernelspec": {
   "display_name": "Python 3 (ipykernel)",
   "language": "python",
   "name": "python3"
  },
  "language_info": {
   "codemirror_mode": {
    "name": "ipython",
    "version": 3
   },
   "file_extension": ".py",
   "mimetype": "text/x-python",
   "name": "python",
   "nbconvert_exporter": "python",
   "pygments_lexer": "ipython3",
   "version": "3.10.8"
  }
 },
 "nbformat": 4,
 "nbformat_minor": 5
}
